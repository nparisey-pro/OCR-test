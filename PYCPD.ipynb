{
 "cells": [
  {
   "cell_type": "code",
   "execution_count": 3,
   "id": "6031c9de-2340-457a-a190-562b1eb6eff0",
   "metadata": {},
   "outputs": [
    {
     "name": "stdout",
     "output_type": "stream",
     "text": [
      "Collecting pycpd\n",
      "  Downloading pycpd-2.0.0-py3-none-any.whl (10 kB)\n",
      "Requirement already satisfied: numpy in /opt/app-root/lib/python3.8/site-packages (from pycpd) (1.21.4)\n",
      "Collecting future\n",
      "  Downloading future-0.18.3.tar.gz (840 kB)\n",
      "     |████████████████████████████████| 840 kB 2.1 MB/s            \n",
      "\u001b[?25h  Preparing metadata (setup.py) ... \u001b[?25ldone\n",
      "\u001b[?25hBuilding wheels for collected packages: future\n",
      "  Building wheel for future (setup.py) ... \u001b[?25ldone\n",
      "\u001b[?25h  Created wheel for future: filename=future-0.18.3-py3-none-any.whl size=492036 sha256=463b698ef7f4ea8e9d1b587a1da976c5a5a66c724ff05aed9df132cc2927d711\n",
      "  Stored in directory: /tmp/pip-ephem-wheel-cache-7loukqvm/wheels/a0/0b/ee/e6994fadb42c1354dcccb139b0bf2795271bddfe6253ccdf11\n",
      "Successfully built future\n",
      "Installing collected packages: future, pycpd\n",
      "Successfully installed future-0.18.3 pycpd-2.0.0\n",
      "\u001b[33mWARNING: You are using pip version 21.3.1; however, version 23.2.1 is available.\n",
      "You should consider upgrading via the '/opt/app-root/bin/python3.8 -m pip install --upgrade pip' command.\u001b[0m\n"
     ]
    }
   ],
   "source": [
    "# !pip install pycpd"
   ]
  },
  {
   "cell_type": "code",
   "execution_count": 4,
   "id": "ddf17d12-23f3-4add-a25d-5abd561b98e7",
   "metadata": {},
   "outputs": [
    {
     "name": "stdout",
     "output_type": "stream",
     "text": [
      "Target Points: \n",
      " [[0.  0. ]\n",
      " [0.  1. ]\n",
      " [1.  0. ]\n",
      " [1.  1. ]\n",
      " [0.5 0. ]\n",
      " [0.  0.5]]\n",
      "Source Points: \n",
      " [[1.  0. ]\n",
      " [1.  1. ]\n",
      " [2.  0. ]\n",
      " [2.  1. ]\n",
      " [1.5 0. ]\n",
      " [1.  0.5]]\n"
     ]
    }
   ],
   "source": [
    "from pycpd import RigidRegistration\n",
    "import numpy as np\n",
    "\n",
    "# create 2D target points (you can get these from any source you desire)\n",
    "# creating a square w/ 2 additional points.\n",
    "target = np.array([[0, 0], [0, 1], [1, 0], [1, 1], [0.5, 0], [0, 0.5]])\n",
    "print('Target Points: \\n', target)\n",
    "\n",
    "# create a translation to apply to the target for testing the registration\n",
    "translation = [1, 0]\n",
    "\n",
    "# create a fake source by adding a translation to the target.\n",
    "# in a real use, you would load the source points from a file or other source.\n",
    "# the only requirement is that this array also be 2-dimensional and that the\n",
    "# second dimension be the same length as the second dimension of the target array.\n",
    "source = target + translation\n",
    "print('Source Points: \\n', source)\n",
    "\n",
    "# create a RigidRegistration object\n",
    "reg = RigidRegistration(X=target, Y=source)\n",
    "# run the registration & collect the results\n",
    "TY, (s_reg, R_reg, t_reg) = reg.register()\n",
    "\n",
    "# TY is the transformed source points\n",
    "# the values in () are the registration parameters.\n",
    "# In this case of rigid registration they are:\n",
    "#     s_reg the scale of the registration\n",
    "#     R_reg the rotation matrix of the registration\n",
    "#     t_reg the translation of the registration"
   ]
  }
 ],
 "metadata": {
  "kernelspec": {
   "display_name": "Python 3 (ipykernel)",
   "language": "python",
   "name": "python3"
  },
  "language_info": {
   "codemirror_mode": {
    "name": "ipython",
    "version": 3
   },
   "file_extension": ".py",
   "mimetype": "text/x-python",
   "name": "python",
   "nbconvert_exporter": "python",
   "pygments_lexer": "ipython3",
   "version": "3.8.6"
  }
 },
 "nbformat": 4,
 "nbformat_minor": 5
}
